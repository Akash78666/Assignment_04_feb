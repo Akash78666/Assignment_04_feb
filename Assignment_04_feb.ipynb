{
 "cells": [
  {
   "cell_type": "code",
   "execution_count": 3,
   "id": "05c5ac86-4395-4b1a-9e31-513e301ea1fc",
   "metadata": {},
   "outputs": [
    {
     "ename": "SyntaxError",
     "evalue": "invalid syntax (101805473.py, line 2)",
     "output_type": "error",
     "traceback": [
      "\u001b[0;36m  Cell \u001b[0;32mIn[3], line 2\u001b[0;36m\u001b[0m\n\u001b[0;31m    lambda function.\u001b[0m\n\u001b[0m                   ^\u001b[0m\n\u001b[0;31mSyntaxError\u001b[0m\u001b[0;31m:\u001b[0m invalid syntax\n"
     ]
    }
   ],
   "source": [
    "#1. Create a python program to sort the given list of tuples based on integer value using a \n",
    "lambda function. \n",
    "\n",
    "tuple=[('sachin Tendulkar',34357),('Ricky Panting',27483),('Jack kallis',25534),('Virat kohli',24936)]\n",
    "tuple.sort(key=lambda x:x[1])\n",
    "print(\"\\nSorting the List of Tuples:\")\n",
    "print(tuple)\n"
   ]
  },
  {
   "cell_type": "code",
   "execution_count": 4,
   "id": "33416eff-7733-4bf3-8f2f-f8361ed790d2",
   "metadata": {},
   "outputs": [],
   "source": [
    "Y=[1, 2, 3, 4, 5, 6, 7, 8, 9, 10]"
   ]
  },
  {
   "cell_type": "code",
   "execution_count": 6,
   "id": "c910fd6c-3304-46e1-848a-9ea0577ae510",
   "metadata": {},
   "outputs": [
    {
     "data": {
      "text/plain": [
       "[1, 4, 9, 16, 25, 36, 49, 64, 81, 100]"
      ]
     },
     "execution_count": 6,
     "metadata": {},
     "output_type": "execute_result"
    }
   ],
   "source": [
    "list(map(lambda x: x**2, Y))"
   ]
  },
  {
   "cell_type": "code",
   "execution_count": 7,
   "id": "1e543904-ec97-4984-a263-9681249a3536",
   "metadata": {},
   "outputs": [
    {
     "name": "stdout",
     "output_type": "stream",
     "text": [
      "\n",
      "List of Strings:\n",
      "['1', '2', '3', '4', '5', '6', '7', '8', '9', '10']\n",
      "\n",
      "List of Tuples:\n"
     ]
    },
    {
     "ename": "NameError",
     "evalue": "name 'result_tuples' is not defined",
     "output_type": "error",
     "traceback": [
      "\u001b[0;31m---------------------------------------------------------------------------\u001b[0m",
      "\u001b[0;31mNameError\u001b[0m                                 Traceback (most recent call last)",
      "Cell \u001b[0;32mIn[7], line 8\u001b[0m\n\u001b[1;32m      6\u001b[0m \u001b[38;5;28mprint\u001b[39m(result_list)\n\u001b[1;32m      7\u001b[0m \u001b[38;5;28mprint\u001b[39m(\u001b[38;5;124m\"\u001b[39m\u001b[38;5;130;01m\\n\u001b[39;00m\u001b[38;5;124mList of Tuples:\u001b[39m\u001b[38;5;124m\"\u001b[39m)\n\u001b[0;32m----> 8\u001b[0m \u001b[38;5;28mprint\u001b[39m(\u001b[43mresult_tuples\u001b[49m)\n",
      "\u001b[0;31mNameError\u001b[0m: name 'result_tuples' is not defined"
     ]
    }
   ],
   "source": [
    "nList=[1, 2, 3, 4, 5, 6, 7, 8, 9, 10]\n",
    "ntuple=(1, 2, 3, 4, 5, 6, 7, 8, 9, 10)\n",
    "result_list=list(map(str,nList))\n",
    "result_Tuple=list(map(str, ntuple))\n",
    "print(\"\\nList of Strings:\")\n",
    "print(result_list)\n",
    "print(\"\\nList of Tuples:\")\n",
    "print(result_tuples)\n",
    "                  \n",
    "                 "
   ]
  },
  {
   "cell_type": "code",
   "execution_count": 8,
   "id": "ad3bd217-19aa-451d-b6ec-71b1c4dc861b",
   "metadata": {},
   "outputs": [],
   "source": [
    "from  functools import reduce"
   ]
  },
  {
   "cell_type": "code",
   "execution_count": 9,
   "id": "bf629d19-84da-4d31-b1fc-650f62990765",
   "metadata": {},
   "outputs": [],
   "source": [
    "l=[1,2,3,3,4,5,6,7,8,9,10,11,12,13,14,15,16,17,18,19,20,21,22,23,24,25]\n"
   ]
  },
  {
   "cell_type": "code",
   "execution_count": 10,
   "id": "0a110d50-cc68-4562-82f1-9c37f5c7b8ae",
   "metadata": {},
   "outputs": [
    {
     "data": {
      "text/plain": [
       "328"
      ]
     },
     "execution_count": 10,
     "metadata": {},
     "output_type": "execute_result"
    }
   ],
   "source": [
    "   reduce(lambda x,y:x+y,l)"
   ]
  },
  {
   "cell_type": "code",
   "execution_count": 11,
   "id": "46dcb4e9-bdf5-4249-842e-0aa3a29198d7",
   "metadata": {},
   "outputs": [],
   "source": [
    "l2=[2, 3, 6, 9, 27, 60, 90, 120, 55, 46]"
   ]
  },
  {
   "cell_type": "code",
   "execution_count": 12,
   "id": "0dccc329-8da6-4290-9ae8-5262234c7737",
   "metadata": {},
   "outputs": [
    {
     "data": {
      "text/plain": [
       "[2, 3, 6, 9, 27, 60, 90, 120, 46]"
      ]
     },
     "execution_count": 12,
     "metadata": {},
     "output_type": "execute_result"
    }
   ],
   "source": [
    "list(filter(lambda x:x%2==0 or x%3==0,l2))"
   ]
  },
  {
   "cell_type": "code",
   "execution_count": 14,
   "id": "655c2d9a-09d8-4443-a7d1-24994fa37094",
   "metadata": {},
   "outputs": [
    {
     "name": "stdout",
     "output_type": "stream",
     "text": [
      "\n",
      "List of palindromes:\n",
      "['php', 'aba', 'radar', 'level']\n"
     ]
    }
   ],
   "source": [
    "texts = ['python', 'php', 'aba', 'radar', 'level']\n",
    "\n",
    "result = list(filter(lambda x: (x == \"\".join(reversed(x))), texts)) \n",
    "print(\"\\nList of palindromes:\")\n",
    "print(result) "
   ]
  },
  {
   "cell_type": "code",
   "execution_count": null,
   "id": "13ebfc83-dbbb-4bc5-811d-e23e165b314b",
   "metadata": {},
   "outputs": [],
   "source": []
  }
 ],
 "metadata": {
  "kernelspec": {
   "display_name": "Python 3 (ipykernel)",
   "language": "python",
   "name": "python3"
  },
  "language_info": {
   "codemirror_mode": {
    "name": "ipython",
    "version": 3
   },
   "file_extension": ".py",
   "mimetype": "text/x-python",
   "name": "python",
   "nbconvert_exporter": "python",
   "pygments_lexer": "ipython3",
   "version": "3.10.8"
  }
 },
 "nbformat": 4,
 "nbformat_minor": 5
}
